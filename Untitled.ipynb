{
 "cells": [
  {
   "cell_type": "code",
   "execution_count": 3,
   "id": "6b51ec91",
   "metadata": {},
   "outputs": [
    {
     "name": "stderr",
     "output_type": "stream",
     "text": [
      "Loading required package: TSrepr\n",
      "\n",
      "Warning message in library(package, lib.loc = lib.loc, character.only = TRUE, logical.return = TRUE, :\n",
      "“there is no package called ‘TSrepr’”\n",
      "Loading required package: TSdist\n",
      "\n",
      "Warning message in library(package, lib.loc = lib.loc, character.only = TRUE, logical.return = TRUE, :\n",
      "“there is no package called ‘TSdist’”\n",
      "Loading required package: genlasso\n",
      "\n",
      "Warning message in library(package, lib.loc = lib.loc, character.only = TRUE, logical.return = TRUE, :\n",
      "“there is no package called ‘genlasso’”\n",
      "Loading required package: e1071\n",
      "\n",
      "Warning message in library(package, lib.loc = lib.loc, character.only = TRUE, logical.return = TRUE, :\n",
      "“there is no package called ‘e1071’”\n",
      "Loading required package: forecast\n",
      "\n",
      "Warning message in library(package, lib.loc = lib.loc, character.only = TRUE, logical.return = TRUE, :\n",
      "“there is no package called ‘forecast’”\n"
     ]
    }
   ],
   "source": [
    "require(data.table)\n",
    "require(ggplot2)\n",
    "require(repr)\n",
    "require(rpart)\n",
    "#require(rattle)\n",
    "require(TSrepr)\n",
    "require(TSdist)\n",
    "require(dtw)\n",
    "require(zoo)\n",
    "require(genlasso)\n",
    "require(e1071)\n",
    "require(lubridate)\n",
    "require(forecast)\n",
    "require(dplyr)"
   ]
  },
  {
   "cell_type": "code",
   "execution_count": 4,
   "id": "83234fee",
   "metadata": {},
   "outputs": [],
   "source": [
    "options(repr.plot.width=15, repr.plot.height=8)\n",
    "\n",
    "current_folder=getwd()"
   ]
  },
  {
   "cell_type": "code",
   "execution_count": null,
   "id": "a6efbee3",
   "metadata": {},
   "outputs": [],
   "source": [
    "dat=fread('bulk_imbalance.csv')\n",
    "weat=fread('2022-01-09_weather.csv')\n",
    "head(dat)\n",
    "head(weat)"
   ]
  }
 ],
 "metadata": {
  "kernelspec": {
   "display_name": "R",
   "language": "R",
   "name": "ir"
  },
  "language_info": {
   "codemirror_mode": "r",
   "file_extension": ".r",
   "mimetype": "text/x-r-source",
   "name": "R",
   "pygments_lexer": "r",
   "version": "3.6.1"
  }
 },
 "nbformat": 4,
 "nbformat_minor": 5
}
